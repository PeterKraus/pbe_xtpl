{
 "cells": [
  {
   "cell_type": "markdown",
   "id": "722f397d-247e-466e-a84b-0ceb7dd97455",
   "metadata": {},
   "source": [
    "#   Extrapolating DFT towards the complete basis set limit: \n",
    "#   Lessons from the PBE family of functionals\n",
    "##  Supplemental material - Binder landing page \n",
    "Author: Peter Kraus\n",
    "\n",
    "Date: 2021-05-24\n",
    "\n",
    "[![DOI](https://zenodo.org/badge/DOI/10.5281/zenodo.4779488.svg)](https://doi.org/10.5281/zenodo.4779488)"
   ]
  },
  {
   "cell_type": "markdown",
   "id": "0a3a4cff-fc8e-49f6-a566-9d5418aab8ff",
   "metadata": {},
   "source": [
    "### Content:\n",
    "\n",
    "#### `data`:\n",
    "Results of calculations carried out in current work:\n",
    " - The `data/HelFEM` folder contains results of all complete basis set HelFEM calculations of the 30 singlet diatomics.\n",
    " - The `data/diatomics` folder contains results of Psi4 calculations with the indicated basis sets for the 30 singlet diatomics. \n",
    " - The `data/ASCDB` and `data/L7` folders contain the single-point energy Psi4 calculation results of the species in each dataset. \n",
    " - The `data/NCDT` folder contains geometry optimization results using Psi4.\n",
    "\n",
    "#### `external`:\n",
    "Calculations and supplementary data from external sources: \n",
    " - The `external/ncdt` folder contains the reference geometries of the NCDT database and the `external/ncdt_2.1.json` file lists the bonds to include in the benchmark. Derived from [![DOI](https://zenodo.org/badge/DOI/10.5281/zenodo.4033536.svg)](https://doi.org/10.5281/zenodo.4033536).\n",
    " - The `external/ASCDB.csv` file contains ASCDB related data, see [![Github](https://img.shields.io/badge/github-peverati/ASCDB-green.svg?logo=github)](https://github.com/peverati/ASCDB) and [![DOI:10.1039/C9CP03211H](https://img.shields.io/badge/DOI-10.1039/C9CP03211H-red)](https://doi.org/10.1039/C9CP03211H). \n",
    " - The `external/gmtkn.json` file contains previous results of the GMTKN55 database, see [![DOI:10.5281/zenodo.3904120](https://zenodo.org/badge/DOI/10.5281/zenodo.3904120.svg)](https://doi.org/10.5281/zenodo.3904120)\n",
    " - The `external/l7.json` file contains reference data of Ballesteros et al. for the L7 database, see [![DOI:/10.1063/5.0042906](https://img.shields.io/badge/DOI-10.1063/5.0042906-red)](https://doi.org/10.1063/5.0042906).\n",
    " \n",
    "#### `notebooks`:\n",
    "Analysis scripts producing tables and figures:\n",
    "- [notebooks/extrapolations.ipynb](notebooks/extrapolations.ipynb) producing the formulas and extrapolation parameters $\\alpha$ from the results in `data/HelFEM` and `data/diatomics`.\n",
    "- [notebooks/tab_helfem.ipynb](notebooks/tab_helfem.ipynb) produces the table listing the 30 diatomic species, using the `data/singlets.json` file.\n",
    "- [notebooks/ascdb.ipynb](notebooks/ascdb.ipynb) produces the ASCDB-related figures from results in `data/ASCDB` and the specification from `external/ASCDB.csv`.\n",
    "- [notebooks/gmtkn55.ipynb](notebooks/gmtkn55.ipynb) produces the diet100 GMTKN55 analysis and figures, using previously calculated `external/gmtkn.json` data.\n",
    "- [notebooks/ncdt.ipynb](notebooks/ncdt.ipynb) produces the NCDT figures, using the `data/NCDT` results and `external/ncdt` as well as `external/ncdt_2.1.json` files.\n",
    "- [notebooks/l7.ipynb](notebooks/l7.ipynb) produces the L7 figures, using the `data/l7` results and `external/l7.json` reference energies.\n",
    "\n",
    "#### `outputs`:\n",
    "Location where all `notebooks` write outputs to.\n",
    "\n",
    "#### `si`:\n",
    "Folder with the supplemental material tex/bib/pdf file."
   ]
  },
  {
   "cell_type": "code",
   "execution_count": null,
   "id": "0a5dc5b3-e182-4f06-8a2b-67b6531ca4ab",
   "metadata": {},
   "outputs": [],
   "source": []
  }
 ],
 "metadata": {
  "kernelspec": {
   "display_name": "Python 3.8 (binder)",
   "language": "python",
   "name": "cbs_dft_binder"
  },
  "language_info": {
   "codemirror_mode": {
    "name": "ipython",
    "version": 3
   },
   "file_extension": ".py",
   "mimetype": "text/x-python",
   "name": "python",
   "nbconvert_exporter": "python",
   "pygments_lexer": "ipython3",
   "version": "3.8.3"
  }
 },
 "nbformat": 4,
 "nbformat_minor": 5
}
