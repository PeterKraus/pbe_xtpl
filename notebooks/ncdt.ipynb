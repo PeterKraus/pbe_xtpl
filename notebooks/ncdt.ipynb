{
 "cells": [
  {
   "cell_type": "code",
   "execution_count": 1,
   "id": "802d43e8-dc13-4c71-9e57-1e970766a532",
   "metadata": {},
   "outputs": [],
   "source": [
    "import os\n",
    "import json\n",
    "import hashlib\n",
    "import numpy as np\n",
    "from qcelemental import constants\n",
    "import psi4\n",
    "import matplotlib\n",
    "import matplotlib.pyplot as plt\n",
    "matplotlib.rcParams.update({'font.size': 14})\n",
    "from functions import zetacolors, extrapolations, getFuncPars, prettifyBasis, prettifyFunc"
   ]
  },
  {
   "cell_type": "code",
   "execution_count": 2,
   "id": "326493b3-684d-4a46-ba80-ca550f83de5b",
   "metadata": {},
   "outputs": [],
   "source": [
    "with open(os.path.join(\"..\", \"external\", \"ncdt_2.1.json\"), \"r\") as infile:\n",
    "    refdata = json.load(infile)"
   ]
  },
  {
   "cell_type": "code",
   "execution_count": 3,
   "id": "29d20c53-9cb3-4fda-9cf0-fe4247beec04",
   "metadata": {},
   "outputs": [],
   "source": [
    "refstructs = {}\n",
    "fns = os.listdir(os.path.join(\"..\", \"external\", \"ncdt\"))\n",
    "for fn in fns:\n",
    "    if fn.endswith(\"xyz\"):\n",
    "        with open(os.path.join(\"..\", \"external\", \"ncdt\", fn), \"r\") as infile:\n",
    "            xyzdata = infile.read()\n",
    "            refstructs[fn[:-4]] = psi4.geometry(xyzdata)"
   ]
  },
  {
   "cell_type": "code",
   "execution_count": 4,
   "id": "028f1752-2fa5-46fb-9b61-f644b0905e3b",
   "metadata": {},
   "outputs": [],
   "source": [
    "for geom in refdata:\n",
    "    for bond in refdata[geom]:\n",
    "        bond.append(refstructs[geom].distance_matrix().np[bond[1]-1][bond[2]-1] * constants.bohr2angstroms)"
   ]
  },
  {
   "cell_type": "code",
   "execution_count": 5,
   "id": "796b8090-0903-4335-99aa-f295a084e055",
   "metadata": {},
   "outputs": [
    {
     "name": "stdout",
     "output_type": "stream",
     "text": [
      "b3lyp-d3bj def2-[st]zvpd [0.05607661234653882, 0.3210343321009832, 0.39097709760655786]\n",
      "revpbe-d3bj def2-qzvpd [0.013720923603797175, 0.4232138219191892, 0.5211180795748884]\n",
      "pbe0-d3 def2-tzvpd [0.06008944879840916, 0.32747702440994164, 0.39754405946117455]\n",
      "pbe0-d3 def2-svpd [0.08574347330282128, 0.42966668466374713, 0.5085907923049868]\n",
      "revpbe-d3bj def2-[st]zvpd [0.010498654033991084, 0.4312187258163269, 0.5319053107853735]\n",
      "b3lyp-d3bj def2-svpd [0.08520063136563572, 0.448983225917825, 0.5318504240569437]\n",
      "b3lyp-d3bj def2-qzvpd [0.05425304751536286, 0.27191753565220367, 0.33099461183183543]\n",
      "b97m-d3bj def2-qzvpd [0.02560585215864819, 0.22099859520272114, 0.27234795624263075]\n",
      "b97m-d3bj def2-svpd [0.09801008417098744, 0.7127018055662546, 0.8961676571247628]\n",
      "revpbe-d3bj def2-svpd [0.03759767188028196, 0.49930305286637644, 0.596831443315299]\n",
      "b3lyp-d3bj def2-tzvpd [0.05594759709553365, 0.3213344918045826, 0.39212136318585067]\n",
      "wb97x-d3bj def2-tzvpd [0.05052873382667311, 0.4634322671053219, 0.584271638405812]\n",
      "b97m-d3bj def2-tzvpd [0.036957294154747355, 0.3083411318962672, 0.376548493354095]\n",
      "m062x-d3 def2-[st]zvpd [0.006408765255219606, 0.047161782086960535, 0.0745404616463583]\n",
      "m062x-d3 def2-qzvpd [0.015200761163888021, 0.021579486962316707, 0.04381266640568082]\n",
      "pbe0-d3 def2-[st]zvpd [0.060105841532712034, 0.32748968304126436, 0.39755289116601933]\n",
      "wb97x-d3bj def2-svpd [0.06477518102828261, 0.48604876927866636, 0.5920235235723057]\n",
      "wb97x-d3bj def2-qzvpd [0.021654596075283195, 0.20229792929223311, 0.25517946465698316]\n",
      "m062x-d3 def2-svpd [0.007159057877877739, -0.16112926272877637, -0.16936483663047142]\n",
      "wb97x-d3bj def2-[st]zvpd [0.017220781210304015, 0.2114027512368697, 0.26720199155313384]\n",
      "m062x-d3 def2-tzvpd [0.006519302202794286, 0.04831119862259481, 0.07591525564767121]\n",
      "b97m-d3bj def2-[st]zvpd [0.03702006162486793, 0.30871105263875265, 0.37697974757080743]\n",
      "pbe0-d3 def2-qzvpd [0.06226382075480519, 0.3033038288969494, 0.36716147148801515]\n",
      "revpbe-d3bj def2-tzvpd [0.010529427409331937, 0.43079930970188585, 0.5314367746003974]\n"
     ]
    }
   ],
   "source": [
    "results = {}\n",
    "rfns = os.listdir(os.path.join(\"..\", \"data\", \"NCDT\"))\n",
    "for fn in rfns:\n",
    "    if fn.endswith(\"xyz\"):\n",
    "        with open(os.path.join(\"..\", \"data\", \"NCDT\", fn), \"r\") as infile:\n",
    "            xyzdata = infile.read()\n",
    "            tagl = xyzdata.split(\"\\n\")[1]\n",
    "            fctl, rest = tagl.split(\"/\")\n",
    "            if fctl == \"cam-b3lyp-d3bj\":\n",
    "                continue\n",
    "            basis, rest = rest.split(\":\")\n",
    "            geom = rest[:-4]\n",
    "            #if geom in [\"HCN-H2CO-rSE\"]:#, \"CS2-OCS-rSE\", \"Xe-OCS-rm2\", \"Kr-OCS-rSE\"]:\n",
    "            #    continue\n",
    "            mol = psi4.geometry(xyzdata)\n",
    "            if fctl not in results:\n",
    "                results[fctl] = {}\n",
    "            if basis not in results[fctl]:\n",
    "                results[fctl][basis] = {}\n",
    "            geomdevs = []\n",
    "            for bond in refdata[geom]:\n",
    "                bl = mol.distance_matrix().np[bond[1]-1][bond[2]-1] * constants.bohr2angstroms\n",
    "                diff = bond[-1] - bl\n",
    "                geomdevs.append(diff)\n",
    "            if geom == \"HCN-H2CO-rSE\":\n",
    "                print(fctl, basis, geomdevs)\n",
    "            results[fctl][basis][geom] = geomdevs"
   ]
  },
  {
   "cell_type": "raw",
   "id": "8183ace1-e977-496a-a431-07e60e4799ad",
   "metadata": {},
   "source": [
    "pbe0-d3 def2-[st]zvpd [0.1200359718583468, 0.736210154473786, 0.9496954161528173]\n",
    "pbe0-d3 def2-[st]zvpd [0.0601058415327120, 0.327489683041264, 0.3975528911660193]"
   ]
  },
  {
   "cell_type": "code",
   "execution_count": 6,
   "id": "4348918a-a390-4175-ac67-c80a9107452e",
   "metadata": {},
   "outputs": [
    {
     "name": "stdout",
     "output_type": "stream",
     "text": [
      "b3lyp-d3bj/def2-[st]zvpd      : 0.881 0.256 HCN-H2CO-rSE         17\n",
      "b3lyp-d3bj/def2-qzvpd         : 0.846 0.219 HCN-H2CO-rSE         17\n",
      "b3lyp-d3bj/def2-svpd          : 1.235 0.355 HCN-H2CO-rSE         17\n",
      "b3lyp-d3bj/def2-tzvpd         : 0.892 0.256 HCN-H2CO-rSE         17\n",
      "pbe0-d3/def2-[st]zvpd         : 1.115 0.262 HCN-H2CO-rSE         17\n",
      "pbe0-d3/def2-qzvpd            : 1.106 0.244 HCN-H2CO-rSE         17\n",
      "pbe0-d3/def2-svpd             : 1.357 0.341 HCN-H2CO-rSE         17\n",
      "pbe0-d3/def2-tzvpd            : 1.093 0.262 HCN-H2CO-rSE         17\n",
      "revpbe-d3bj/def2-[st]zvpd     : 2.452 0.325 HCN-H2CO-rSE         17\n",
      "revpbe-d3bj/def2-qzvpd        : 2.385 0.319 HCN-H2CO-rSE         17\n",
      "revpbe-d3bj/def2-svpd         : 2.126 0.378 HCN-H2CO-rSE         17\n",
      "revpbe-d3bj/def2-tzvpd        : 2.452 0.324 HCN-H2CO-rSE         17\n",
      "b97m-d3bj/def2-[st]zvpd       : 1.250 0.241 HCN-H2CO-rSE         17\n",
      "b97m-d3bj/def2-qzvpd          : 1.196 0.173 HCN-H2CO-rSE         17\n",
      "b97m-d3bj/def2-svpd           : 1.758 0.569 HCN-H2CO-rSE         17\n",
      "b97m-d3bj/def2-tzvpd          : 1.239 0.241 HCN-H2CO-rSE         17\n",
      "wb97x-d3bj/def2-[st]zvpd      : 0.894 0.165 HCN-H2CO-rSE         16\n",
      "wb97x-d3bj/def2-qzvpd         : 0.867 0.160 HCN-H2CO-rSE         16\n",
      "wb97x-d3bj/def2-svpd          : 1.604 0.381 HCN-H2CO-rSE         17\n",
      "wb97x-d3bj/def2-tzvpd         : 1.150 0.366 HCN-H2CO-rSE         17\n",
      "m062x-d3/def2-[st]zvpd        : 1.183 0.181 CH2ClF-HCCH-rSE      17\n",
      "m062x-d3/def2-qzvpd           : 1.427 0.210 Ne-C2H4-rSE          17\n",
      "m062x-d3/def2-svpd            : 2.308 0.265 Ne-Ne-NNO-rSE        17\n",
      "m062x-d3/def2-tzvpd           : 1.185 0.180 CH2ClF-HCCH-rSE      17\n"
     ]
    }
   ],
   "source": [
    "for fctl in results:\n",
    "    for basis in sorted(results[fctl].keys()):\n",
    "        if len(results[fctl][basis]) < 16 and False:\n",
    "            pass\n",
    "        else:\n",
    "            mads = []\n",
    "            geoms = sorted(results[fctl][basis].keys())\n",
    "            for geom in geoms:\n",
    "                mad = np.mean([abs(dev) for dev in results[fctl][basis][geom]])\n",
    "                mads.append(mad)\n",
    "            print(f\"{fctl + '/' + basis:30s}: {np.sum(mads):5.3f} \"\n",
    "                  f\"{np.max(mads):5.3f} {geoms[np.argmax(mads)]:20s} {len(mads):2d}\")"
   ]
  },
  {
   "cell_type": "code",
   "execution_count": 7,
   "id": "98ec0840-6b7f-4521-a87e-3a8ae46ca2db",
   "metadata": {},
   "outputs": [
    {
     "data": {
      "image/png": "[encoded data removed]",
      "text/plain": [
       "<Figure size 432x468 with 9 Axes>"
      ]
     },
     "metadata": {
      "needs_background": "light"
     },
     "output_type": "display_data"
    }
   ],
   "source": [
    "fig, ax = plt.subplots(figsize=(6,6.5))\n",
    "grid = plt.GridSpec(3, 2, wspace=0.1, hspace=0.1, figure=fig)\n",
    "ax = []\n",
    "ax.append(plt.subplot(grid[0:1, 0:1]))\n",
    "ax.append(plt.subplot(grid[0:1, 1:2]))\n",
    "ax.append(plt.subplot(grid[1:2, 0:1]))\n",
    "ax.append(plt.subplot(grid[1:2, 1:2]))\n",
    "ax.append(plt.subplot(grid[2:3, 0:1]))\n",
    "ax.append(plt.subplot(grid[2:3, 1:2]))\n",
    "\n",
    "ai = 0\n",
    "for fctl in [\"revpbe-d3bj\", \"b97m-d3bj\", \"b3lyp-d3bj\", \"pbe0-d3\",  \"m062x-d3\", \"wb97x-d3bj\"]:        \n",
    "    fctltmad = []\n",
    "    for basis in [\"def2-svpd\", \"def2-tzvpd\", \"def2-qzvpd\", \"def2-[st]zvpd\"]:\n",
    "        mads = []\n",
    "        for geom in results[fctl][basis].keys():\n",
    "            mad = np.mean([abs(dev) for dev in results[fctl][basis][geom]])\n",
    "            mads.append(mad)\n",
    "        fctltmad.append(np.sum(mads))\n",
    "    ax[ai].barh([2.5,1.5,0.], fctltmad[:-1], color= [zetacolors[i] for i in [\"def2-svpd\", \"def2-tzvpd\", \"def2-qzvpd\"]],\n",
    "                edgecolor=\"k\", linewidth=0.5, height=0.8, zorder=1, alpha=0.8)\n",
    "    ax[ai].barh(0.75, fctltmad[-1], color=\"0.5\", edgecolor=\"k\", height=0.5, zorder=1, alpha=1, linewidth=0.5)\n",
    "    ax[ai].set_xlim(left=0, right=2.5)\n",
    "    \n",
    "    if ai % 2 == 0:\n",
    "        ax[ai].tick_params(labelleft=True)\n",
    "        ax[ai].set_ylabel(prettifyFunc(fctl), fontsize=12)\n",
    "        \n",
    "    else:\n",
    "        ax[ai].tick_params(labelright=True)\n",
    "        ty = ax[ai].twinx()\n",
    "        ty.tick_params(bottom=False, top=False, left=False, right=False, \n",
    "                       labelbottom=False, labeltop=False, labelleft=False, labelright=False)\n",
    "        ty.set_ylabel(prettifyFunc(fctl), fontsize=12, rotation=270, labelpad=15)\n",
    "    \n",
    "    ax[ai].tick_params(axis=\"y\",direction=\"in\", pad=-5)\n",
    "    ax[ai].tick_params(bottom=True, top=True, left=False, right=False, \n",
    "                       labelbottom=False, labeltop=False, labelleft=True, labelright=False)\n",
    "    ax[ai].set_yticks([0,0.75,1.5,2.5])\n",
    "    ax[ai].tick_params(axis=\"y\",direction=\"in\", pad=-5)\n",
    "    ax[ai].set_yticklabels([\"def2-svpd\", \"def2-tzvpd\", \"def2-[st]zvpd\", \"def2-qzvpd\"][::-1], \n",
    "                           horizontalalignment = \"left\", fontsize=12, verticalalignment=\"center\")\n",
    "    ai += 1\n",
    "ax[0].tick_params(labeltop=True)\n",
    "ax[1].tick_params(labeltop=True)\n",
    "ax[-2].tick_params(labelbottom=True)\n",
    "ax[-1].tick_params(labelbottom=True)\n",
    "fig.text(0.5, 0.04, \"NCDT total MAD (Å)\", ha=\"center\", va=\"bottom\")\n",
    "fig.savefig(os.path.join(\"..\",\"output\",\"fig_ncdt.pdf\"), dpi=300, format=\"pdf\", pad_inches=0.1, bbox_inches=\"tight\")"
   ]
  },
  {
   "cell_type": "code",
   "execution_count": null,
   "id": "5e777a99-c4a3-45a7-93c4-1da975751c11",
   "metadata": {},
   "outputs": [],
   "source": []
  }
 ],
 "metadata": {
  "kernelspec": {
   "display_name": "CHEM3004_RotSpec",
   "language": "python",
   "name": "chem3004_rotspec"
  },
  "language_info": {
   "codemirror_mode": {
    "name": "ipython",
    "version": 3
   },
   "file_extension": ".py",
   "mimetype": "text/x-python",
   "name": "python",
   "nbconvert_exporter": "python",
   "pygments_lexer": "ipython3",
   "version": "3.9.2"
  }
 },
 "nbformat": 4,
 "nbformat_minor": 5
}
