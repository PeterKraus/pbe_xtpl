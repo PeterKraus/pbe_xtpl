{
 "cells": [
  {
   "cell_type": "code",
   "execution_count": 1,
   "metadata": {},
   "outputs": [],
   "source": [
    "import json\n",
    "import os"
   ]
  },
  {
   "cell_type": "code",
   "execution_count": 2,
   "metadata": {},
   "outputs": [],
   "source": [
    "with open(os.path.join(\"..\", \"data\", \"singlets.json\"), \"r\") as infile:\n",
    "    singlets = json.load(infile)"
   ]
  },
  {
   "cell_type": "code",
   "execution_count": 3,
   "metadata": {},
   "outputs": [],
   "source": [
    "lines = []\n",
    "lines.append(\"\\\\begin{tabular}{l|r|r|r|r}\")\n",
    "lines.append(\"\\\\hline\")\n",
    "lines.append(\"\\\\textbf{Diatomic} & R (\\\\AA) & \"\n",
    "             \"\\\\multicolumn{2}{c|}{$\\\\ell_\\\\mathrm{max}$} & $n_\\\\mathrm{elem}$ \\\\\\\\\")\n",
    "lines.append(\"\\\\hline\")"
   ]
  },
  {
   "cell_type": "code",
   "execution_count": 4,
   "metadata": {},
   "outputs": [],
   "source": [
    "for key in singlets:\n",
    "    for i in singlets[key]:\n",
    "        if i.startswith(\"--Rbond\"):\n",
    "            R = float(i.split(\"=\")[1])\n",
    "        if i.startswith(\"--angstrom\"):\n",
    "            a = float(i.split(\"=\")[1])\n",
    "        if i.startswith(\"--lmax\"):\n",
    "            l = i.split(\"=\")[1].split(\",\")\n",
    "        if i.startswith(\"--nelem\"):\n",
    "            n = int(i.split(\"=\")[1])\n",
    "    diat = key[1:].replace(\"+\",\"$^+$\").replace(\"-\",\"$^-$\").replace(\"2\",\"$_2$\")\n",
    "    line =  f\"{diat:7s} &\"\n",
    "    line += f\" {R * (1 if a else 0.529177):7.5f} &\"\n",
    "    line += f\" {l[0]} & {l[1]} & {n:2d} \\\\\\\\\"\n",
    "    lines.append(line)"
   ]
  },
  {
   "cell_type": "code",
   "execution_count": 5,
   "metadata": {},
   "outputs": [],
   "source": [
    "lines.append(\"\\\\hline\")\n",
    "lines.append(\"\\\\end{tabular}\")"
   ]
  },
  {
   "cell_type": "code",
   "execution_count": 6,
   "metadata": {},
   "outputs": [
    {
     "name": "stdout",
     "output_type": "stream",
     "text": [
      "\\begin{tabular}{l|r|r|r|r}\n",
      "\\hline\n",
      "\\textbf{Diatomic} & R (\\AA) & \\multicolumn{2}{c|}{$\\ell_\\mathrm{max}$} & $n_\\mathrm{elem}$ \\\\\n",
      "\\hline\n",
      "CH$^+$  & 1.13085 & 15 & 11 &  3 \\\\\n",
      "OH$^+$  & 1.02890 & 17 & 13 &  3 \\\\\n",
      "OH$^-$  & 0.94246 & 15 & 13 &  3 \\\\\n",
      "FH      & 0.91696 & 17 & 13 &  5 \\\\\n",
      "C$_2$   & 1.24780 & 17 & 11 &  3 \\\\\n",
      "CN$^+$  & 1.17290 & 17 & 13 &  3 \\\\\n",
      "CN$^-$  & 1.17160 & 17 & 13 &  3 \\\\\n",
      "N$_2$   & 1.09434 & 17 & 11 &  3 \\\\\n",
      "NO$^+$  & 1.06206 & 17 & 13 &  3 \\\\\n",
      "CO      & 1.12821 & 17 & 13 &  5 \\\\\n",
      "CF$^+$  & 1.22875 & 19 & 15 &  5 \\\\\n",
      "OF$^-$  & 1.49228 & 21 & 17 &  5 \\\\\n",
      "F$_2$   & 1.41184 & 21 & 15 &  5 \\\\\n",
      "SiH$^+$ & 1.50410 & 25 & 19 &  5 \\\\\n",
      "SH$^-$  & 1.34993 & 27 & 21 &  5 \\\\\n",
      "HCl     & 1.29119 & 27 & 21 &  5 \\\\\n",
      "CP$^-$  & 1.58753 & 27 & 21 &  5 \\\\\n",
      "CS      & 1.53442 & 27 & 21 &  7 \\\\\n",
      "SiN$^-$ & 1.55578 & 27 & 21 &  5 \\\\\n",
      "NP      & 1.49085 & 27 & 21 &  5 \\\\\n",
      "SN$^+$  & 1.44000 & 27 & 21 &  5 \\\\\n",
      "SiO     & 1.50974 & 25 & 19 &  5 \\\\\n",
      "PO$^+$  & 1.41900 & 25 & 19 &  5 \\\\\n",
      "SF$^-$  & 1.70395 & 29 & 23 &  7 \\\\\n",
      "ClF     & 1.66162 & 29 & 23 &  7 \\\\\n",
      "SiS     & 1.93000 & 31 & 23 &  7 \\\\\n",
      "P$_2$   & 1.89340 & 31 & 23 &  7 \\\\\n",
      "PS$^+$  & 1.87200 & 31 & 23 &  7 \\\\\n",
      "SCl$^-$ & 2.14846 & 33 & 25 &  7 \\\\\n",
      "Cl$_2$  & 2.04262 & 33 & 25 &  7 \\\\\n",
      "\\hline\n",
      "\\end{tabular}\n"
     ]
    }
   ],
   "source": [
    "print(\"\\n\".join(lines))\n",
    "with open(os.path.join(\"..\", \"output\", \"tab_helfem.tex\"), \"w\") as outfile:\n",
    "    outfile.write(\"\\n\".join(lines))"
   ]
  }
 ],
 "metadata": {
  "kernelspec": {
   "display_name": "Python 3",
   "language": "python",
   "name": "python3"
  },
  "language_info": {
   "codemirror_mode": {
    "name": "ipython",
    "version": 3
   },
   "file_extension": ".py",
   "mimetype": "text/x-python",
   "name": "python",
   "nbconvert_exporter": "python",
   "pygments_lexer": "ipython3",
   "version": "3.9.5"
  }
 },
 "nbformat": 4,
 "nbformat_minor": 4
}
